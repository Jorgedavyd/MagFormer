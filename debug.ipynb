{
 "cells": [
  {
   "cell_type": "code",
   "execution_count": 42,
   "metadata": {},
   "outputs": [
    {
     "ename": "RuntimeError",
     "evalue": "torch.gradient expected each dimension size to be at least edge_order+1",
     "output_type": "error",
     "traceback": [
      "\u001b[0;31m---------------------------------------------------------------------------\u001b[0m",
      "\u001b[0;31mRuntimeError\u001b[0m                              Traceback (most recent call last)",
      "Cell \u001b[0;32mIn[42], line 12\u001b[0m\n\u001b[1;32m      9\u001b[0m gradient \u001b[38;5;241m=\u001b[39m []\n\u001b[1;32m     11\u001b[0m \u001b[38;5;28;01mfor\u001b[39;00m dim \u001b[38;5;129;01min\u001b[39;00m \u001b[38;5;28mrange\u001b[39m(x\u001b[38;5;241m.\u001b[39mshape[\u001b[38;5;241m-\u001b[39m\u001b[38;5;241m1\u001b[39m]):\n\u001b[0;32m---> 12\u001b[0m     gradient\u001b[38;5;241m.\u001b[39mappend(\u001b[43mtorch\u001b[49m\u001b[38;5;241;43m.\u001b[39;49m\u001b[43mgradient\u001b[49m\u001b[43m(\u001b[49m\u001b[43mf\u001b[49m\u001b[43m,\u001b[49m\u001b[43m \u001b[49m\u001b[43mspacing\u001b[49m\u001b[43m \u001b[49m\u001b[38;5;241;43m=\u001b[39;49m\u001b[43m \u001b[49m\u001b[43m(\u001b[49m\u001b[43mx\u001b[49m\u001b[43m[\u001b[49m\u001b[43m:\u001b[49m\u001b[43m,\u001b[49m\u001b[43m \u001b[49m\u001b[43m:\u001b[49m\u001b[43m,\u001b[49m\u001b[43m \u001b[49m\u001b[43mdim\u001b[49m\u001b[43m]\u001b[49m\u001b[43m,\u001b[49m\u001b[43m \u001b[49m\u001b[43m)\u001b[49m\u001b[43m,\u001b[49m\u001b[43m \u001b[49m\u001b[43mdim\u001b[49m\u001b[43m \u001b[49m\u001b[38;5;241;43m=\u001b[39;49m\u001b[43m \u001b[49m\u001b[38;5;241;43m-\u001b[39;49m\u001b[38;5;241;43m1\u001b[39;49m\u001b[43m)\u001b[49m)\n\u001b[1;32m     13\u001b[0m \u001b[38;5;66;03m### Conv\u001b[39;00m\n",
      "\u001b[0;31mRuntimeError\u001b[0m: torch.gradient expected each dimension size to be at least edge_order+1"
     ]
    }
   ],
   "source": [
    "### grad\n",
    "import torch\n",
    "\n",
    "\n",
    "f = torch.randn(32, 6, 1)\n",
    "\n",
    "x = torch.randn(32, 6, 3)\n",
    "\n",
    "gradient = []\n",
    "\n",
    "for dim in range(x.shape[-1]):\n",
    "    gradient.append(torch.gradient(f, spacing = (x[:, :, dim], ), dim = -1))\n",
    "### Conv\n",
    "\n"
   ]
  },
  {
   "cell_type": "code",
   "execution_count": 1,
   "metadata": {},
   "outputs": [
    {
     "ename": "AttributeError",
     "evalue": "module 'sunpy.data.sample' has no attribute 'LASCO_C2_20031222_160405_1024'",
     "output_type": "error",
     "traceback": [
      "\u001b[0;31m---------------------------------------------------------------------------\u001b[0m",
      "\u001b[0;31mAttributeError\u001b[0m                            Traceback (most recent call last)",
      "Cell \u001b[0;32mIn[1], line 9\u001b[0m\n\u001b[1;32m      6\u001b[0m \u001b[38;5;28;01mimport\u001b[39;00m \u001b[38;5;21;01mnumpy\u001b[39;00m \u001b[38;5;28;01mas\u001b[39;00m \u001b[38;5;21;01mnp\u001b[39;00m\n\u001b[1;32m      8\u001b[0m \u001b[38;5;66;03m# Load example LASCO and AIA data from SunPy sample data\u001b[39;00m\n\u001b[0;32m----> 9\u001b[0m lasco_map \u001b[38;5;241m=\u001b[39m sunpy\u001b[38;5;241m.\u001b[39mmap\u001b[38;5;241m.\u001b[39mMap(\u001b[43msunpy\u001b[49m\u001b[38;5;241;43m.\u001b[39;49m\u001b[43mdata\u001b[49m\u001b[38;5;241;43m.\u001b[39;49m\u001b[43msample\u001b[49m\u001b[38;5;241;43m.\u001b[39;49m\u001b[43mLASCO_C2_20031222_160405_1024\u001b[49m\u001b[38;5;241m.\u001b[39mfits)\n\u001b[1;32m     10\u001b[0m aia_map \u001b[38;5;241m=\u001b[39m sunpy\u001b[38;5;241m.\u001b[39mmap\u001b[38;5;241m.\u001b[39mMap(sunpy\u001b[38;5;241m.\u001b[39mdata\u001b[38;5;241m.\u001b[39msample\u001b[38;5;241m.\u001b[39mAIA_171_IMAGE)\n\u001b[1;32m     12\u001b[0m \u001b[38;5;66;03m# Reproject AIA to LASCO coordinate frame\u001b[39;00m\n",
      "File \u001b[0;32m~/.local/lib/python3.10/site-packages/sunpy/data/sample.py:52\u001b[0m, in \u001b[0;36m__getattr__\u001b[0;34m(name)\u001b[0m\n\u001b[1;32m     50\u001b[0m     \u001b[38;5;28;01mreturn\u001b[39;00m [v \u001b[38;5;28;01mfor\u001b[39;00m v \u001b[38;5;129;01min\u001b[39;00m \u001b[38;5;21m__getattr__\u001b[39m(\u001b[38;5;124m'\u001b[39m\u001b[38;5;124mfile_dict\u001b[39m\u001b[38;5;124m'\u001b[39m)\u001b[38;5;241m.\u001b[39mvalues() \u001b[38;5;28;01mif\u001b[39;00m v]\n\u001b[1;32m     51\u001b[0m \u001b[38;5;28;01melse\u001b[39;00m:\n\u001b[0;32m---> 52\u001b[0m     \u001b[38;5;28;01mraise\u001b[39;00m \u001b[38;5;167;01mAttributeError\u001b[39;00m(\u001b[38;5;124mf\u001b[39m\u001b[38;5;124m\"\u001b[39m\u001b[38;5;124mmodule \u001b[39m\u001b[38;5;124m'\u001b[39m\u001b[38;5;132;01m{\u001b[39;00m\u001b[38;5;18m__name__\u001b[39m\u001b[38;5;132;01m}\u001b[39;00m\u001b[38;5;124m'\u001b[39m\u001b[38;5;124m has no attribute \u001b[39m\u001b[38;5;124m'\u001b[39m\u001b[38;5;132;01m{\u001b[39;00mname\u001b[38;5;132;01m}\u001b[39;00m\u001b[38;5;124m'\u001b[39m\u001b[38;5;124m\"\u001b[39m)\n",
      "\u001b[0;31mAttributeError\u001b[0m: module 'sunpy.data.sample' has no attribute 'LASCO_C2_20031222_160405_1024'"
     ]
    }
   ],
   "source": [
    "import sunpy.map\n",
    "import sunpy.data.sample\n",
    "import sunpy.coordinates\n",
    "import astropy.units as u\n",
    "import matplotlib.pyplot as plt\n",
    "import numpy as np\n",
    "\n",
    "# Load example LASCO and AIA data from SunPy sample data\n",
    "lasco_map = sunpy.map.Map(sunpy.data.sample.LASCO_C2_20031222_160405_1024.fits)\n",
    "aia_map = sunpy.map.Map(sunpy.data.sample.AIA_171_IMAGE)\n",
    "\n",
    "# Reproject AIA to LASCO coordinate frame\n",
    "shape_out = lasco_map.data.shape\n",
    "header = lasco_map.wcs.to_header()\n",
    "aia_reprojected, footprint = aia_map.reproject_to(header)\n",
    "\n",
    "# Combine the data\n",
    "combined_data = np.zeros(shape_out)\n",
    "mask = footprint > 0\n",
    "combined_data[mask] = aia_reprojected.data[mask]\n",
    "\n",
    "# Overlay the images\n",
    "fig = plt.figure()\n",
    "ax = fig.add_subplot(1, 1, 1, projection=lasco_map)\n",
    "lasco_map.plot(axes=ax, alpha=0.5)  # LASCO image with 50% transparency\n",
    "ax.imshow(combined_data, cmap='sdoaia171', origin='lower', alpha=0.5)  # AIA data overlay\n",
    "\n",
    "plt.show()\n"
   ]
  },
  {
   "cell_type": "code",
   "execution_count": null,
   "metadata": {},
   "outputs": [],
   "source": []
  }
 ],
 "metadata": {
  "kernelspec": {
   "display_name": "Python 3",
   "language": "python",
   "name": "python3"
  },
  "language_info": {
   "codemirror_mode": {
    "name": "ipython",
    "version": 3
   },
   "file_extension": ".py",
   "mimetype": "text/x-python",
   "name": "python",
   "nbconvert_exporter": "python",
   "pygments_lexer": "ipython3",
   "version": "3.10.12"
  }
 },
 "nbformat": 4,
 "nbformat_minor": 2
}
